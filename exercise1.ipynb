{
 "cells": [
  {
   "attachments": {},
   "cell_type": "markdown",
   "metadata": {},
   "source": [
    "# EXERCISE 1. \n",
    "\n",
    "The four adjacent digits in the 1000-digit number that have the greatest product are 9x9x8x9=5832. \n",
    "\n",
    "        73167176531330624919225119674426574742355349194934\n",
    "        96983520312774506326239578318016984801869478851843\n",
    "        85861560789112949495459501737958331952853208805511\n",
    "        12540698747158523863050715693290963295227443043557\n",
    "        66896648950445244523161731856403098711121722383113\n",
    "        62229893423380308135336276614282806444486645238749\n",
    "        30358907296290491560440772390713810515859307960866\n",
    "        70172427121883998797908792274921901699720888093776\n",
    "        65727333001053367881220235421809751254540594752243\n",
    "        52584907711670556013604839586446706324415722155397\n",
    "        53697817977846174064955149290862569321978468622482\n",
    "        83972241375657056057490261407972968652414535100474\n",
    "        82166370484403199890008895243450658541227588666881\n",
    "        16427171479924442928230863465674813919123162824586\n",
    "        17866458359124566529476545682848912883142607690042\n",
    "        24219022671055626321111109370544217506941658960408\n",
    "        07198403850962455444362981230987879927244284909188\n",
    "        84580156166097919133875499200524063689912560717606\n",
    "        05886116467109405077541002256983155200055935729725\n",
    "        71636269561882670428252483600823257530420752963450\n",
    "\n",
    "Find the thirtheen adjacent digits in the 1000-digit number that have the greastest product. \n",
    "What is the value of this product?"
   ]
  },
  {
   "cell_type": "code",
   "execution_count": 3,
   "metadata": {},
   "outputs": [
    {
     "name": "stdout",
     "output_type": "stream",
     "text": [
      "23514624000\n"
     ]
    }
   ],
   "source": [
    "number_str = ('73167176531330624919225119674426574742355349194934'\n",
    "              '96983520312774506326239578318016984801869478851843'\n",
    "              '85861560789112949495459501737958331952853208805511'\n",
    "              '12540698747158523863050715693290963295227443043557'\n",
    "              '66896648950445244523161731856403098711121722383113'\n",
    "              '62229893423380308135336276614282806444486645238749'\n",
    "              '30358907296290491560440772390713810515859307960866'\n",
    "              '70172427121883998797908792274921901699720888093776'\n",
    "              '65727333001053367881220235421809751254540594752243'\n",
    "              '52584907711670556013604839586446706324415722155397'\n",
    "              '53697817977846174064955149290862569321978468622482'\n",
    "              '83972241375657056057490261407972968652414535100474'\n",
    "              '82166370484403199890008895243450658541227588666881'\n",
    "              '16427171479924442928230863465674813919123162824586'\n",
    "              '17866458359124566529476545682848912883142607690042'\n",
    "              '24219022671055626321111109370544217506941658960408'\n",
    "              '07198403850962455444362981230987879927244284909188'\n",
    "              '84580156166097919133875499200524063689912560717606'\n",
    "              '05886116467109405077541002256983155200055935729725'\n",
    "              '71636269561882670428252483600823257530420752963450')\n",
    "\n",
    "adjacent_digits = 13\n",
    "max_product = 0\n",
    "\n",
    "for i in range(len(number_str) - adjacent_digits + 1):\n",
    "    product = 1\n",
    "    for j in range(adjacent_digits):\n",
    "        product *= int(number_str[i+j])\n",
    "    if product > max_product:\n",
    "        max_product = product\n",
    "\n",
    "print(max_product)\n"
   ]
  },
  {
   "attachments": {},
   "cell_type": "markdown",
   "metadata": {},
   "source": [
    "Este código en Python es una solución al primer ejercicio, que consiste en encontrar el producto más grande de 13 dígitos adyacentes en una serie de 1000 dígitos. \n",
    "Lo que hace el código es tomar la serie de dígitos y, mediante un bucle for, recorre cada conjunto de 13 dígitos adyacentes, calcula su producto y lo compara con el producto máximo encontrado hasta el momento. Si el producto actual es mayor que el máximo anterior, se actualiza el valor máximo. Finalmente, el código imprime el producto máximo encontrado.\n",
    "El resultado es **23514624000**"
   ]
  }
 ],
 "metadata": {
  "kernelspec": {
   "display_name": "Python 3",
   "language": "python",
   "name": "python3"
  },
  "language_info": {
   "codemirror_mode": {
    "name": "ipython",
    "version": 3
   },
   "file_extension": ".py",
   "mimetype": "text/x-python",
   "name": "python",
   "nbconvert_exporter": "python",
   "pygments_lexer": "ipython3",
   "version": "3.10.6"
  },
  "orig_nbformat": 4
 },
 "nbformat": 4,
 "nbformat_minor": 2
}
